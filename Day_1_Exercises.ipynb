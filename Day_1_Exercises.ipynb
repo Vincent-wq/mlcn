{
 "cells": [
  {
   "cell_type": "markdown",
   "metadata": {},
   "source": [
    "# Q1.\n",
    "## Q1.1\n",
    "Using make_regression to generate data, create and train the following models:\n",
    "- Linear Regression\n",
    "- Support Vector Regression ([see here](https://scikit-learn.org/stable/modules/svm.html#regression))\n",
    "- Decision Tree Regression ([see here](https://scikit-learn.org/stable/modules/tree.html#regression))\n",
    "\n",
    "Make sure to use the same data for each model. Plot the data labels and overlay model predictions. Which model performs better? For the SVR, change the `kernel` parameter between 'rbf','linear', and 'poly'."
   ]
  },
  {
   "cell_type": "markdown",
   "metadata": {},
   "source": [
    "## Q1.2\n",
    "Create a new function, similar to \"create_data\" in Section 1 exercises. Instead of a weighted sum, implement the following:  \n",
    "\n",
    "\\begin{equation}\n",
    "y = A*sin(f x) + V*noise\n",
    "\\end{equation}\n",
    "\n",
    "The function should meet the following specifications:\n",
    "- x is a user-specified [n by 1] array, where n is the number of elements.  \n",
    "- A is a user-specified scalar. It corresponds to the amplitude of the sine.  \n",
    "- f is a user-specified scalar. It corresponds to the frequency of the sine.  \n",
    "- V is a user-specified sclar. It corresponds to the variance of the noise.  \n",
    "- noise is a normally-distributed random value added to each sample.  \n",
    "- y is the returned [n by 1] array.  \n",
    "  \n",
    "Re-initialize models from Q1.1 and train them on (x, y). Plot the data labels and overlay predictions. Which models perform better?  \n",
    "Hint: numpy.sin ; numpy.random.randn"
   ]
  },
  {
   "cell_type": "markdown",
   "metadata": {},
   "source": [
    "## Q1.3\n",
    "Using the noisy sine function from Q1.2, generate new data. Use `PolynomialFeatures` as we did in Section 1 to create powers of our features (`x`). Training the models from Q1.2 using our new `x_poly` features, how do the models trained on `x_poly` compare to the ones trained on `x` in Q1.2?"
   ]
  }
 ],
 "metadata": {
  "kernelspec": {
   "display_name": "Python 3",
   "language": "python",
   "name": "python3"
  },
  "language_info": {
   "codemirror_mode": {
    "name": "ipython",
    "version": 3
   },
   "file_extension": ".py",
   "mimetype": "text/x-python",
   "name": "python",
   "nbconvert_exporter": "python",
   "pygments_lexer": "ipython3",
   "version": "3.8.5"
  },
  "varInspector": {
   "cols": {
    "lenName": 16,
    "lenType": 16,
    "lenVar": 40
   },
   "kernels_config": {
    "python": {
     "delete_cmd_postfix": "",
     "delete_cmd_prefix": "del ",
     "library": "var_list.py",
     "varRefreshCmd": "print(var_dic_list())"
    },
    "r": {
     "delete_cmd_postfix": ") ",
     "delete_cmd_prefix": "rm(",
     "library": "var_list.r",
     "varRefreshCmd": "cat(var_dic_list()) "
    }
   },
   "types_to_exclude": [
    "module",
    "function",
    "builtin_function_or_method",
    "instance",
    "_Feature"
   ],
   "window_display": false
  }
 },
 "nbformat": 4,
 "nbformat_minor": 4
}
